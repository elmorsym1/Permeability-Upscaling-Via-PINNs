{
 "cells": [
  {
   "attachments": {},
   "cell_type": "markdown",
   "metadata": {},
   "source": [
    "### ** Compile predicted data L1 to L2**"
   ]
  },
  {
   "cell_type": "markdown",
   "metadata": {},
   "source": [
    "#### Load Libraries"
   ]
  },
  {
   "cell_type": "code",
   "execution_count": 1,
   "metadata": {},
   "outputs": [],
   "source": [
    "from numpy.random import seed\n",
    "seed(1)\n",
    "import numpy as np\n",
    "import pandas as pd\n",
    "from contextlib import redirect_stdout"
   ]
  },
  {
   "cell_type": "markdown",
   "metadata": {},
   "source": [
    "#### Load Data - Update"
   ]
  },
  {
   "cell_type": "code",
   "execution_count": 2,
   "metadata": {},
   "outputs": [],
   "source": [
    "# List data filenames\n",
    "rock_type = 'BrSS'                                                                         #update, options: BrSS, BSS, KLS                                                                        #update, options: pinn_loss, pinn_lambda, analytical\n",
    "folder = \"sim_results\"                                                             \n",
    "##\n",
    "##\n",
    "L3_cubes_results_file = \"./\"+folder+\"/\"+rock_type+\"_600_kxyz_results\"\n",
    "L2_cubes_results_file = \"./\"+folder+\"/\"+rock_type+\"_300_kxyz_results\"\n",
    "L1_cubes_results_file = \"./\"+folder+\"/\"+rock_type+\"_150_kxyz_results\"\n",
    "#\n",
    "L3_L2_cubes_map_info_file = \"./\"+folder+\"/\"+rock_type+\"_600_300_map_info\"\n",
    "L2_L1_cubes_map_info_file = \"./\"+folder+\"/\"+rock_type+\"_300_150_map_info\"\n",
    "##\n",
    "## Load Data\n",
    "L3_cubes_results = pd.read_csv(L3_cubes_results_file+\".csv\")\n",
    "L2_cubes_results = pd.read_csv(L2_cubes_results_file+\".csv\")\n",
    "L1_cubes_results = pd.read_csv(L1_cubes_results_file+\".csv\")\n",
    "#\n",
    "L3_L2_cubes_map_info = pd.read_csv(L3_L2_cubes_map_info_file+\".csv\")\n",
    "L2_L1_cubes_map_info = pd.read_csv(L2_L1_cubes_map_info_file+\".csv\")\n",
    "#\n",
    "# Display data\n",
    "# display(L3_L2_cubes_map_info.head())\n",
    "# display(L2_L1_cubes_map_info.head())"
   ]
  },
  {
   "attachments": {},
   "cell_type": "markdown",
   "metadata": {},
   "source": [
    "#### Data Processing"
   ]
  },
  {
   "cell_type": "code",
   "execution_count": 3,
   "metadata": {},
   "outputs": [
    {
     "ename": "ValueError",
     "evalue": "cannot insert level_0, already exists",
     "output_type": "error",
     "traceback": [
      "\u001b[0;31m---------------------------------------------------------------------------\u001b[0m",
      "\u001b[0;31mValueError\u001b[0m                                Traceback (most recent call last)",
      "\u001b[0;32m<ipython-input-3-cbec9e8703a3>\u001b[0m in \u001b[0;36m<module>\u001b[0;34m\u001b[0m\n\u001b[1;32m     11\u001b[0m \u001b[0;31m## ToReSim List\u001b[0m\u001b[0;34m\u001b[0m\u001b[0;34m\u001b[0m\u001b[0;34m\u001b[0m\u001b[0m\n\u001b[1;32m     12\u001b[0m \u001b[0mL2_cubes_results_red\u001b[0m \u001b[0;34m=\u001b[0m \u001b[0mL2_cubes_results\u001b[0m\u001b[0;34m.\u001b[0m\u001b[0mwhere\u001b[0m\u001b[0;34m(\u001b[0m\u001b[0mL2_cubes_results\u001b[0m\u001b[0;34m[\u001b[0m\u001b[0;34m\"case-name\"\u001b[0m\u001b[0;34m]\u001b[0m\u001b[0;34m.\u001b[0m\u001b[0misin\u001b[0m\u001b[0;34m(\u001b[0m\u001b[0mcubes_300_list\u001b[0m\u001b[0;34m[\u001b[0m\u001b[0;34m\"case-name\"\u001b[0m\u001b[0;34m]\u001b[0m\u001b[0;34m)\u001b[0m\u001b[0;34m)\u001b[0m\u001b[0;34m.\u001b[0m\u001b[0mdropna\u001b[0m\u001b[0;34m(\u001b[0m\u001b[0;34m)\u001b[0m\u001b[0;34m.\u001b[0m\u001b[0mreset_index\u001b[0m\u001b[0;34m(\u001b[0m\u001b[0;34m)\u001b[0m\u001b[0;34m\u001b[0m\u001b[0;34m\u001b[0m\u001b[0m\n\u001b[0;32m---> 13\u001b[0;31m \u001b[0mToReSim_300_list\u001b[0m \u001b[0;34m=\u001b[0m \u001b[0mL2_cubes_results_red\u001b[0m\u001b[0;34m[\u001b[0m\u001b[0mL2_cubes_results_red\u001b[0m\u001b[0;34m[\u001b[0m\u001b[0;34m'Eff. Porosity'\u001b[0m\u001b[0;34m]\u001b[0m \u001b[0;34m>\u001b[0m \u001b[0;36m0.5\u001b[0m\u001b[0;34m]\u001b[0m\u001b[0;34m.\u001b[0m\u001b[0mdropna\u001b[0m\u001b[0;34m(\u001b[0m\u001b[0;34m)\u001b[0m\u001b[0;34m.\u001b[0m\u001b[0mreset_index\u001b[0m\u001b[0;34m(\u001b[0m\u001b[0;34m)\u001b[0m\u001b[0;34m\u001b[0m\u001b[0;34m\u001b[0m\u001b[0m\n\u001b[0m\u001b[1;32m     14\u001b[0m \u001b[0mToReSim_300_list\u001b[0m \u001b[0;34m=\u001b[0m \u001b[0mToReSim_300_list\u001b[0m\u001b[0;34m[\u001b[0m\u001b[0;34m\"case-name\"\u001b[0m\u001b[0;34m]\u001b[0m\u001b[0;34m.\u001b[0m\u001b[0mvalues\u001b[0m\u001b[0;34m.\u001b[0m\u001b[0mflatten\u001b[0m\u001b[0;34m(\u001b[0m\u001b[0;34m)\u001b[0m\u001b[0;34m.\u001b[0m\u001b[0mastype\u001b[0m\u001b[0;34m(\u001b[0m\u001b[0;34m'int'\u001b[0m\u001b[0;34m)\u001b[0m\u001b[0;34m\u001b[0m\u001b[0;34m\u001b[0m\u001b[0m\n\u001b[1;32m     15\u001b[0m \u001b[0;31m##\u001b[0m\u001b[0;34m\u001b[0m\u001b[0;34m\u001b[0m\u001b[0;34m\u001b[0m\u001b[0m\n",
      "\u001b[0;32m/usr/local/lib64/python3.6/site-packages/pandas/core/frame.py\u001b[0m in \u001b[0;36mreset_index\u001b[0;34m(self, level, drop, inplace, col_level, col_fill)\u001b[0m\n\u001b[1;32m   4602\u001b[0m                 \u001b[0;31m# to ndarray and maybe infer different dtype\u001b[0m\u001b[0;34m\u001b[0m\u001b[0;34m\u001b[0m\u001b[0;34m\u001b[0m\u001b[0m\n\u001b[1;32m   4603\u001b[0m                 \u001b[0mlevel_values\u001b[0m \u001b[0;34m=\u001b[0m \u001b[0m_maybe_casted_values\u001b[0m\u001b[0;34m(\u001b[0m\u001b[0mlev\u001b[0m\u001b[0;34m,\u001b[0m \u001b[0mlab\u001b[0m\u001b[0;34m)\u001b[0m\u001b[0;34m\u001b[0m\u001b[0;34m\u001b[0m\u001b[0m\n\u001b[0;32m-> 4604\u001b[0;31m                 \u001b[0mnew_obj\u001b[0m\u001b[0;34m.\u001b[0m\u001b[0minsert\u001b[0m\u001b[0;34m(\u001b[0m\u001b[0;36m0\u001b[0m\u001b[0;34m,\u001b[0m \u001b[0mname\u001b[0m\u001b[0;34m,\u001b[0m \u001b[0mlevel_values\u001b[0m\u001b[0;34m)\u001b[0m\u001b[0;34m\u001b[0m\u001b[0;34m\u001b[0m\u001b[0m\n\u001b[0m\u001b[1;32m   4605\u001b[0m \u001b[0;34m\u001b[0m\u001b[0m\n\u001b[1;32m   4606\u001b[0m         \u001b[0mnew_obj\u001b[0m\u001b[0;34m.\u001b[0m\u001b[0mindex\u001b[0m \u001b[0;34m=\u001b[0m \u001b[0mnew_index\u001b[0m\u001b[0;34m\u001b[0m\u001b[0;34m\u001b[0m\u001b[0m\n",
      "\u001b[0;32m/usr/local/lib64/python3.6/site-packages/pandas/core/frame.py\u001b[0m in \u001b[0;36minsert\u001b[0;34m(self, loc, column, value, allow_duplicates)\u001b[0m\n\u001b[1;32m   3494\u001b[0m         \u001b[0mself\u001b[0m\u001b[0;34m.\u001b[0m\u001b[0m_ensure_valid_index\u001b[0m\u001b[0;34m(\u001b[0m\u001b[0mvalue\u001b[0m\u001b[0;34m)\u001b[0m\u001b[0;34m\u001b[0m\u001b[0;34m\u001b[0m\u001b[0m\n\u001b[1;32m   3495\u001b[0m         \u001b[0mvalue\u001b[0m \u001b[0;34m=\u001b[0m \u001b[0mself\u001b[0m\u001b[0;34m.\u001b[0m\u001b[0m_sanitize_column\u001b[0m\u001b[0;34m(\u001b[0m\u001b[0mcolumn\u001b[0m\u001b[0;34m,\u001b[0m \u001b[0mvalue\u001b[0m\u001b[0;34m,\u001b[0m \u001b[0mbroadcast\u001b[0m\u001b[0;34m=\u001b[0m\u001b[0;32mFalse\u001b[0m\u001b[0;34m)\u001b[0m\u001b[0;34m\u001b[0m\u001b[0;34m\u001b[0m\u001b[0m\n\u001b[0;32m-> 3496\u001b[0;31m         \u001b[0mself\u001b[0m\u001b[0;34m.\u001b[0m\u001b[0m_data\u001b[0m\u001b[0;34m.\u001b[0m\u001b[0minsert\u001b[0m\u001b[0;34m(\u001b[0m\u001b[0mloc\u001b[0m\u001b[0;34m,\u001b[0m \u001b[0mcolumn\u001b[0m\u001b[0;34m,\u001b[0m \u001b[0mvalue\u001b[0m\u001b[0;34m,\u001b[0m \u001b[0mallow_duplicates\u001b[0m\u001b[0;34m=\u001b[0m\u001b[0mallow_duplicates\u001b[0m\u001b[0;34m)\u001b[0m\u001b[0;34m\u001b[0m\u001b[0;34m\u001b[0m\u001b[0m\n\u001b[0m\u001b[1;32m   3497\u001b[0m \u001b[0;34m\u001b[0m\u001b[0m\n\u001b[1;32m   3498\u001b[0m     \u001b[0;32mdef\u001b[0m \u001b[0massign\u001b[0m\u001b[0;34m(\u001b[0m\u001b[0mself\u001b[0m\u001b[0;34m,\u001b[0m \u001b[0;34m**\u001b[0m\u001b[0mkwargs\u001b[0m\u001b[0;34m)\u001b[0m \u001b[0;34m->\u001b[0m \u001b[0;34m\"DataFrame\"\u001b[0m\u001b[0;34m:\u001b[0m\u001b[0;34m\u001b[0m\u001b[0;34m\u001b[0m\u001b[0m\n",
      "\u001b[0;32m/usr/local/lib64/python3.6/site-packages/pandas/core/internals/managers.py\u001b[0m in \u001b[0;36minsert\u001b[0;34m(self, loc, item, value, allow_duplicates)\u001b[0m\n\u001b[1;32m   1171\u001b[0m         \u001b[0;32mif\u001b[0m \u001b[0;32mnot\u001b[0m \u001b[0mallow_duplicates\u001b[0m \u001b[0;32mand\u001b[0m \u001b[0mitem\u001b[0m \u001b[0;32min\u001b[0m \u001b[0mself\u001b[0m\u001b[0;34m.\u001b[0m\u001b[0mitems\u001b[0m\u001b[0;34m:\u001b[0m\u001b[0;34m\u001b[0m\u001b[0;34m\u001b[0m\u001b[0m\n\u001b[1;32m   1172\u001b[0m             \u001b[0;31m# Should this be a different kind of error??\u001b[0m\u001b[0;34m\u001b[0m\u001b[0;34m\u001b[0m\u001b[0;34m\u001b[0m\u001b[0m\n\u001b[0;32m-> 1173\u001b[0;31m             \u001b[0;32mraise\u001b[0m \u001b[0mValueError\u001b[0m\u001b[0;34m(\u001b[0m\u001b[0;34mf\"cannot insert {item}, already exists\"\u001b[0m\u001b[0;34m)\u001b[0m\u001b[0;34m\u001b[0m\u001b[0;34m\u001b[0m\u001b[0m\n\u001b[0m\u001b[1;32m   1174\u001b[0m \u001b[0;34m\u001b[0m\u001b[0m\n\u001b[1;32m   1175\u001b[0m         \u001b[0;32mif\u001b[0m \u001b[0;32mnot\u001b[0m \u001b[0misinstance\u001b[0m\u001b[0;34m(\u001b[0m\u001b[0mloc\u001b[0m\u001b[0;34m,\u001b[0m \u001b[0mint\u001b[0m\u001b[0;34m)\u001b[0m\u001b[0;34m:\u001b[0m\u001b[0;34m\u001b[0m\u001b[0;34m\u001b[0m\u001b[0m\n",
      "\u001b[0;31mValueError\u001b[0m: cannot insert level_0, already exists"
     ]
    }
   ],
   "source": [
    "# Data Processing\n",
    "## Level 2 - 300 cubes\n",
    "L3_L2_cubes_map_info_red = L3_L2_cubes_map_info.where(L3_L2_cubes_map_info[\"case-name\"].isin(L3_cubes_results[\"case-name\"])).dropna().reset_index()\n",
    "cubes_300_list = L3_L2_cubes_map_info_red[['c1', 'c2', 'c3', 'c4','c5', 'c6', 'c7', 'c8']].values.flatten()\n",
    "cubes_300_list = np.unique(np.sort(cubes_300_list)).astype('int')\n",
    "cubes_300_list = pd.DataFrame(cubes_300_list, columns = ['case-name'])\n",
    "##\n",
    "ToSim_300_list =  cubes_300_list.where(cubes_300_list[\"case-name\"].isin(L2_cubes_results[\"case-name\"]) == False).dropna().reset_index().astype('int')\n",
    "ToSim_300_list = ToSim_300_list[\"case-name\"].values.flatten()\n",
    "##\n",
    "## ToReSim List\n",
    "L2_cubes_results_red = L2_cubes_results.where(L2_cubes_results[\"case-name\"].isin(cubes_300_list[\"case-name\"])).dropna().reset_index()\n",
    "ToReSim_300_list = L2_cubes_results_red[L2_cubes_results_red['Eff. Porosity'] > 0.5].dropna().reset_index()\n",
    "ToReSim_300_list = ToReSim_300_list[\"case-name\"].values.flatten().astype('int')\n",
    "##\n",
    "## Save 300 cubes to Re-/simulate\n",
    "L2_cubes_results_red.to_csv(\"./\"+folder+\"/\"+rock_type+\"_300_kxyz_results_red\"'.csv', index=False)\n",
    "np.savetxt('./'+folder+'/'+rock_type+'_300_ToSim_list'+'.txt', ToSim_300_list, fmt='%s', newline=\" \")\n",
    "np.savetxt('./'+folder+'/'+rock_type+'_300_ToReSim_list'+'.txt', ToReSim_300_list, fmt='%s', newline=\" \")\n",
    "##\n",
    "##\n",
    "## Level 1 - 150 cubes\n",
    "L2_L1_cubes_map_info_red = L2_L1_cubes_map_info.where(L2_L1_cubes_map_info[\"case-name\"].isin(cubes_300_list[\"case-name\"])).dropna().reset_index()\n",
    "cubes_150_list = L2_L1_cubes_map_info_red[['c1', 'c2', 'c3', 'c4','c5', 'c6', 'c7', 'c8']].values.flatten()\n",
    "cubes_150_list = np.unique(np.sort(cubes_150_list)).astype('int')\n",
    "cubes_150_list = pd.DataFrame(cubes_150_list, columns = ['case-name'])\n",
    "##\n",
    "ToSim_150_list =  cubes_150_list.where(cubes_150_list[\"case-name\"].isin(L1_cubes_results[\"case-name\"]) == False).dropna().reset_index().astype('int')\n",
    "ToSim_150_list = ToSim_150_list[\"case-name\"].values.flatten()\n",
    "## ToReSim List\n",
    "L1_cubes_results_red = L1_cubes_results.where(L1_cubes_results[\"case-name\"].isin(cubes_150_list[\"case-name\"])).dropna().reset_index()\n",
    "ToReSim_150_list = L1_cubes_results_red[L1_cubes_results_red['Eff. Porosity'] > 0.5].dropna().reset_index()\n",
    "ToReSim_150_list = ToReSim_150_list[\"case-name\"].values.flatten().astype('int')\n",
    "## Save 300 cubes to simulate\n",
    "L1_cubes_results_red.to_csv(\"./\"+folder+\"/\"+rock_type+\"_150_kxyz_results_red\"'.csv', index=False)\n",
    "np.savetxt('./'+folder+'/'+rock_type+'_150_ToSim_list'+'.txt', ToSim_150_list, fmt='%s', newline=\" \")\n",
    "np.savetxt('./'+folder+'/'+rock_type+'_150_ToReSim_list'+'.txt', ToReSim_150_list, fmt='%s', newline=\" \")\n",
    "##\n",
    "with open('./'+folder+'/'+rock_type+'_ToSim_list_summary'+'.txt', 'w') as f:\n",
    "    with redirect_stdout(f):\n",
    "        print(\"To simulate Summary:\")\n",
    "        print(\"Number of 300 cubes to simulate: \"+str(len(ToSim_300_list)))\n",
    "        print(\"Number of 150 cubes to simulate: \"+str(len(ToSim_150_list)))\n",
    "        #\n",
    "        print(\"\\nTo Re-simulate Summary:\")\n",
    "        print(\"Number of 300 cubes to Re-simulate: \"+str(len(ToReSim_300_list)))\n",
    "        print(\"Number of 150 cubes to Re-simulate: \"+str(len(ToReSim_150_list)))"
   ]
  }
 ],
 "metadata": {
  "kernelspec": {
   "display_name": "Python 3.6.8 ('tensorflow-cpu')",
   "language": "python",
   "name": "python3"
  },
  "language_info": {
   "codemirror_mode": {
    "name": "ipython",
    "version": 3
   },
   "file_extension": ".py",
   "mimetype": "text/x-python",
   "name": "python",
   "nbconvert_exporter": "python",
   "pygments_lexer": "ipython3",
   "version": "3.6.8"
  },
  "orig_nbformat": 4,
  "vscode": {
   "interpreter": {
    "hash": "181f340e2df7e34e778a2366a317e676f39d4ffc23bddca1ebda0b79fed9b5e7"
   }
  }
 },
 "nbformat": 4,
 "nbformat_minor": 2
}
